{
 "cells": [
  {
   "cell_type": "code",
   "execution_count": 3,
   "metadata": {},
   "outputs": [],
   "source": [
    "import qrcode\n",
    "import qrcode.image.svg\n",
    "\n",
    "# define a method to choose which factory metho to use\n",
    "# possible values 'basic' 'fragment' 'path'\n",
    "\n",
    "method = \"path\"\n",
    "\n",
    "data = \"https://www.lucianacountryestate.co.za/\"\n",
    "\n",
    "if method == 'basic':\n",
    "    # Simple factory, just a set of rects.\n",
    "    factory = qrcode.image.svg.SvgImage\n",
    "elif method == 'fragment':\n",
    "    # Fragment factory (also just a set of rects)\n",
    "    factory = qrcode.image.svg.SvgFragmentImage\n",
    "elif method == 'path':\n",
    "    # Combined path factory, fixes white space that may occur when zooming\n",
    "    factory = qrcode.image.svg.SvgPathImage\n",
    "\n",
    "# Set data to qrcode\n",
    "img = qrcode.make(data, image_factory = factory)\n",
    "\n",
    "# Save svg file somewhere\n",
    "img.save(\"path.svg\")"
   ]
  },
  {
   "cell_type": "code",
   "execution_count": null,
   "metadata": {},
   "outputs": [],
   "source": []
  }
 ],
 "metadata": {
  "kernelspec": {
   "display_name": "Python 3.10.4 ('env': venv)",
   "language": "python",
   "name": "python3"
  },
  "language_info": {
   "codemirror_mode": {
    "name": "ipython",
    "version": 3
   },
   "file_extension": ".py",
   "mimetype": "text/x-python",
   "name": "python",
   "nbconvert_exporter": "python",
   "pygments_lexer": "ipython3",
   "version": "3.10.4"
  },
  "orig_nbformat": 4,
  "vscode": {
   "interpreter": {
    "hash": "84bfca90780400bea03cbd7f0dc1125ca69d2a412311d072f48d6a74f8549132"
   }
  }
 },
 "nbformat": 4,
 "nbformat_minor": 2
}
