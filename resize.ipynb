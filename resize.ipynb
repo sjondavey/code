{
 "cells": [
  {
   "cell_type": "code",
   "execution_count": 1,
   "metadata": {},
   "outputs": [],
   "source": [
    "import resize_image_functions\n",
    "import importlib\n",
    "importlib.reload(resize_image_functions)\n",
    "\n",
    "from resize_image_functions import resize_images, resize_images_keep_aspect_ratio, add_sold_text\n",
    "# force a reload of the module\n",
    "import resize_image_functions\n"
   ]
  },
  {
   "cell_type": "code",
   "execution_count": 2,
   "metadata": {},
   "outputs": [],
   "source": [
    "folder_path = \"../Unit 17/\"\n",
    "#resize_images(folder_path = folder_path, width = 490, height = 660)\n",
    "# Portrait\n",
    "#resize_images_keep_aspect_ratio(folder_path = folder_path, width = 490, height = 660)\n",
    "\n",
    "# Landscape\n",
    "#resize_images_keep_aspect_ratio(folder_path = folder_path, width = 640, height = 480)\n",
    "resize_images_keep_aspect_ratio(folder_path = folder_path, width = 1600, height = 1200)"
   ]
  },
  {
   "cell_type": "code",
   "execution_count": 6,
   "metadata": {},
   "outputs": [],
   "source": [
    "folder_path = \"../unit 92/modified\"\n",
    "add_sold_text(folder_path = folder_path)"
   ]
  },
  {
   "cell_type": "code",
   "execution_count": 3,
   "metadata": {},
   "outputs": [],
   "source": [
    "import os\n",
    "\n",
    "def rename_files(folder_path, unit_number):\n",
    "    for filename in os.listdir(folder_path):\n",
    "        os.rename(os.path.join(folder_path, filename), os.path.join(folder_path, f\"{unit_number}{filename}\"))\n",
    "\n",
    "folder_path = \"../unit 17/modified\"\n",
    "unit_number = \"unit_17_\"\n",
    "rename_files(folder_path, unit_number)\n"
   ]
  },
  {
   "cell_type": "code",
   "execution_count": null,
   "metadata": {},
   "outputs": [],
   "source": []
  }
 ],
 "metadata": {
  "kernelspec": {
   "display_name": "Python 3.10.4 ('env': venv)",
   "language": "python",
   "name": "python3"
  },
  "language_info": {
   "codemirror_mode": {
    "name": "ipython",
    "version": 3
   },
   "file_extension": ".py",
   "mimetype": "text/x-python",
   "name": "python",
   "nbconvert_exporter": "python",
   "pygments_lexer": "ipython3",
   "version": "3.10.4"
  },
  "orig_nbformat": 4,
  "vscode": {
   "interpreter": {
    "hash": "84bfca90780400bea03cbd7f0dc1125ca69d2a412311d072f48d6a74f8549132"
   }
  }
 },
 "nbformat": 4,
 "nbformat_minor": 2
}
